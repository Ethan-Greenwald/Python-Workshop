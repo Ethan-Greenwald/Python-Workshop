{
 "cells": [
  {
   "cell_type": "markdown",
   "id": "468d3751",
   "metadata": {},
   "source": [
    "# Python Workshop Part 1: Variables, strings, and numbers\n",
    "\n",
    "## Variables in general\n",
    "\n",
    "Variables are at the heart of any programming language. At the most basic level, they're what let you save information and do things with it later.\n",
    "\n",
    "Variables have two parts to them: A name and data. Names can be anything you want, as long as they don't start with a number and don't have any spaces. You also can't name a variable with something Python uses already (like **if** or **for** as we'll see later on). Data is a little more complicated, as there are many many different kinds of data, refered to as different **datatypes**. You don't need to ever tell Python what datatype you're using, however - it'll figure it out on its own. You can define a variable by first typing its name, then an '=', and then whatever value you want to assign to it (this includes other variables!).\n",
    "\n",
    "## Numbers\n",
    "\n",
    "Here are some examples of variables holding an **integer** datatype:"
   ]
  },
  {
   "cell_type": "code",
   "execution_count": 32,
   "id": "29034c09",
   "metadata": {},
   "outputs": [],
   "source": [
    "x = 10\n",
    "y = x\n",
    "random_variable_name = 4000\n",
    "anotherRandomName = 137"
   ]
  },
  {
   "cell_type": "markdown",
   "id": "10fd1161",
   "metadata": {},
   "source": [
    "Running the following code will cause an error, since starting a variable name with a number is illegal:"
   ]
  },
  {
   "cell_type": "code",
   "execution_count": 13,
   "id": "a335f4ed",
   "metadata": {},
   "outputs": [
    {
     "ename": "SyntaxError",
     "evalue": "invalid syntax (3509069453.py, line 1)",
     "output_type": "error",
     "traceback": [
      "\u001b[1;36m  Input \u001b[1;32mIn [13]\u001b[1;36m\u001b[0m\n\u001b[1;33m    1variable = 1\u001b[0m\n\u001b[1;37m     ^\u001b[0m\n\u001b[1;31mSyntaxError\u001b[0m\u001b[1;31m:\u001b[0m invalid syntax\n"
     ]
    }
   ],
   "source": [
    "1variable = 1"
   ]
  },
  {
   "cell_type": "markdown",
   "id": "aa4a2250",
   "metadata": {},
   "source": [
    "These variables are of the **integer** datatype, which is jut what it sounds like. It holds an integer, positive or negative. When you add a decimal (as in 0.1), those variables are called **floats**, or **floating-point**. All that really means is that there's a part of the number past the decimal, like with these:"
   ]
  },
  {
   "cell_type": "code",
   "execution_count": 14,
   "id": "45bc7a81",
   "metadata": {},
   "outputs": [],
   "source": [
    "a_float_variable = 1.2\n",
    "yet_another_one = 13.7"
   ]
  },
  {
   "cell_type": "markdown",
   "id": "ac5a11a1",
   "metadata": {},
   "source": [
    "You can perform math on variables holding numbers by using +, -, /, and * for the 4 basic operations. Exponents are written using **."
   ]
  },
  {
   "cell_type": "markdown",
   "id": "669376a6",
   "metadata": {},
   "source": [
    "Also, as you go through this notebook and others, feel free to play around with the coding blocks. Using **print()** will print out whatever variable you put in the parentheses (more on printing in a little bit)."
   ]
  },
  {
   "cell_type": "code",
   "execution_count": 33,
   "id": "f1c56d01",
   "metadata": {},
   "outputs": [
    {
     "name": "stdout",
     "output_type": "stream",
     "text": [
      "5\n",
      "16\n",
      "2.0\n"
     ]
    }
   ],
   "source": [
    "adding = 3+2\n",
    "a = 2\n",
    "b = 4\n",
    "exponent = a**b\n",
    "print(adding)\n",
    "print(exponent)\n",
    "print(8/4)"
   ]
  },
  {
   "cell_type": "markdown",
   "id": "c6019b29",
   "metadata": {},
   "source": [
    "You can also perform math on variables themselves! Even though it doesn't make sense from a math perspective, take a look at what the following code does:"
   ]
  },
  {
   "cell_type": "code",
   "execution_count": 35,
   "id": "e3d6d578",
   "metadata": {},
   "outputs": [
    {
     "name": "stdout",
     "output_type": "stream",
     "text": [
      "10\n",
      "5\n"
     ]
    }
   ],
   "source": [
    "a_variable = 10\n",
    "print(a_variable)\n",
    "a_variable = a_variable - 5\n",
    "print(a_variable)"
   ]
  },
  {
   "cell_type": "markdown",
   "id": "259a45c6",
   "metadata": {},
   "source": [
    "## Strings\n",
    "\n",
    "Variables that hold characters (letters, symbols, etc.), are called **strings**. These are defined by using either single ('') or double (\"\") quotes and putting the actual characters in between them. Using **print()** also works to print out strings:"
   ]
  },
  {
   "cell_type": "code",
   "execution_count": 25,
   "id": "a1e1c238",
   "metadata": {},
   "outputs": [
    {
     "name": "stdout",
     "output_type": "stream",
     "text": [
      "Hello World!\n",
      "You can put numbers, like 137 or 42, in strings!\n"
     ]
    }
   ],
   "source": [
    "my_string = \"Hello World!\"\n",
    "print(my_string)\n",
    "print(\"You can put numbers, like 137 or 42, in strings!\")"
   ]
  },
  {
   "cell_type": "markdown",
   "id": "cfb881ed",
   "metadata": {},
   "source": [
    "There are some special cases with strings, however. If you try putting quotes within a string, it won't work! In order to display quotations, along with some other things, we use **escape codes**. This is when you put a \\ infront of a character to do something special. Putting it in front of **n** starts a newline, and in front of \\\\, ', or \" prints that character."
   ]
  },
  {
   "cell_type": "code",
   "execution_count": 30,
   "id": "352651e3",
   "metadata": {},
   "outputs": [
    {
     "name": "stdout",
     "output_type": "stream",
     "text": [
      "Line 1 \n",
      "Line 2\n",
      "Here's a slash: \\\n",
      "And some quotes: ' or \" \n"
     ]
    }
   ],
   "source": [
    "print(\"Line 1 \\nLine 2\")\n",
    "print(\"Here's a slash: \\\\\")\n",
    "print(\"And some quotes: \\' or \\\" \")"
   ]
  },
  {
   "cell_type": "markdown",
   "id": "50239e11",
   "metadata": {},
   "source": [
    "You can also combine strings together by **concatenating** them. It's as simple as just adding them together!"
   ]
  },
  {
   "cell_type": "code",
   "execution_count": 37,
   "id": "3d2518cc",
   "metadata": {},
   "outputs": [
    {
     "name": "stdout",
     "output_type": "stream",
     "text": [
      "Look what I can say: Hello  world!\n"
     ]
    }
   ],
   "source": [
    "string1 = \"Hello \"\n",
    "string2 = \" world!\"\n",
    "both_strings = string1 + string2\n",
    "print(\"Look what I can say: \" + both_strings)"
   ]
  },
  {
   "cell_type": "markdown",
   "id": "b6be4c08",
   "metadata": {},
   "source": [
    "## Comments\n",
    "\n",
    "One last thing to mention in this part is how to **comment** your code. Commenting is how you can type things in Python that won't actually be run as code. These can be notes to yourself, a future person reading your code, or anyone else. You can comment anything at all by using the **#** character:"
   ]
  },
  {
   "cell_type": "code",
   "execution_count": 40,
   "id": "d45e9ad3",
   "metadata": {},
   "outputs": [
    {
     "name": "stdout",
     "output_type": "stream",
     "text": [
      "This code will run!\n"
     ]
    }
   ],
   "source": [
    "print(\"This code will run!\")\n",
    "#print(\"This code will NOT run!\")"
   ]
  },
  {
   "cell_type": "code",
   "execution_count": null,
   "id": "d3d4e542",
   "metadata": {},
   "outputs": [],
   "source": []
  }
 ],
 "metadata": {
  "celltoolbar": "Edit Metadata",
  "kernelspec": {
   "display_name": "Python 3 (ipykernel)",
   "language": "python",
   "name": "python3"
  },
  "language_info": {
   "codemirror_mode": {
    "name": "ipython",
    "version": 3
   },
   "file_extension": ".py",
   "mimetype": "text/x-python",
   "name": "python",
   "nbconvert_exporter": "python",
   "pygments_lexer": "ipython3",
   "version": "3.9.9"
  }
 },
 "nbformat": 4,
 "nbformat_minor": 5
}
