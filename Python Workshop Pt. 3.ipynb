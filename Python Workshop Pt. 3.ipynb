{
 "cells": [
  {
   "cell_type": "markdown",
   "id": "32def345",
   "metadata": {},
   "source": [
    "# Functions and tuples\n",
    "\n",
    "## All about functions\n",
    "\n",
    "**Functions** are coding tools that can make your program more efficient to type, more readable, and more concise. After a **function** is defined (created), it can be called at any time later in the code. Functions, in the most general sense, take some number (possibly zero) input variables, and can spit something out.\n",
    "\n",
    "There are three main parts to a function: The header, the body, and the return statement. The header is where the function is actually defined (using **def**, a function name, and parentheses) and any input variables are specified. Those variables are put in the parentheses separated by commas. The body is code that executes when the function is called, and the return statement is the ending of the function. Return statements let you send something back to where the function was called, letting you use functions to assign values to variables and so forth. Here's an example of how to define and call a basic function:"
   ]
  },
  {
   "cell_type": "code",
   "execution_count": 3,
   "id": "882e4e18",
   "metadata": {},
   "outputs": [
    {
     "name": "stdout",
     "output_type": "stream",
     "text": [
      "3\n"
     ]
    }
   ],
   "source": [
    "def my_function(a, b): # defines the function my_function, which takes two variables\n",
    "    total = a + b      # these two variables are added together and stored in total\n",
    "    return total       # this value is then returned\n",
    "\n",
    "\n",
    "result = my_function(1,2) # this line passes the variables 1 and 2 to my_function(), saving the returned value in result\n",
    "print(result)"
   ]
  },
  {
   "cell_type": "markdown",
   "id": "8a205120",
   "metadata": {},
   "source": [
    "Notice how the above code functions - the values 1 and 2 are passed into **my_function**, which then adds them together and returns the value. That value is stored in the variable **result** and printed out. Try changing the body of **my_function** to return the numbers subtracted instead."
   ]
  },
  {
   "cell_type": "markdown",
   "id": "445c0214",
   "metadata": {},
   "source": [
    "Functions don't even need to take any input variables, they can do any number of things just in isolation:"
   ]
  },
  {
   "cell_type": "code",
   "execution_count": 4,
   "id": "76514fa3",
   "metadata": {},
   "outputs": [
    {
     "name": "stdout",
     "output_type": "stream",
     "text": [
      "This function is working!\n",
      "0\n",
      "1\n",
      "2\n",
      "3\n",
      "4\n",
      "5\n",
      "6\n",
      "7\n",
      "8\n",
      "9\n",
      "Ending the function!\n"
     ]
    }
   ],
   "source": [
    "def printing_function():\n",
    "    print(\"This function is working!\")\n",
    "    for i in range(10):\n",
    "        print(i)\n",
    "    print(\"Ending the function!\")\n",
    "    return   #it's totally ok to return nothing at all! Sometimes functions aren't needed to send any value back\n",
    "\n",
    "printing_function()  #you can call a function just by typing it out like this"
   ]
  },
  {
   "cell_type": "markdown",
   "id": "63a41cc5",
   "metadata": {},
   "source": [
    "As you can see with the above function, you can put any number of things in it. Print statements, loops, anything really!"
   ]
  },
  {
   "cell_type": "markdown",
   "id": "c203d5d3",
   "metadata": {},
   "source": [
    "## Returning more data and tuples\n",
    "\n",
    "Sometimes you want a function to return multiple things at once. This is pretty easy to do - just separate the different values with commas. When trying to save multiple things being returned, you can use commas with variables to grab them. Here's an example of how that works:"
   ]
  },
  {
   "cell_type": "code",
   "execution_count": 7,
   "id": "618d9d72",
   "metadata": {},
   "outputs": [
    {
     "name": "stdout",
     "output_type": "stream",
     "text": [
      "15\n",
      "5\n"
     ]
    }
   ],
   "source": [
    "# this function returns the two numbers added and subtracted as two different values\n",
    "def many_returns(x, y):\n",
    "    added = x+y\n",
    "    subtracted = x-y\n",
    "    return added, subtracted\n",
    "\n",
    "number1 = 10\n",
    "number2 = 5\n",
    "nums_add, nums_sub = many_returns(10,5) # this stores the added value in nums_add and the subtracted value in nums_sub\n",
    "                                        # Notice how you need to preserve the variable order. The first variable name gets\n",
    "                                        # the first value returned from the function (added, in this case)\n",
    "print(nums_add)\n",
    "print(nums_sub)"
   ]
  },
  {
   "cell_type": "markdown",
   "id": "b96d065d",
   "metadata": {},
   "source": [
    "Now although it's very possible to unpack the several returned values into an equal number of variables, sometimes you might want all the data stored in one place. Take a look at how **both_values**, a single variable, is printed:"
   ]
  },
  {
   "cell_type": "code",
   "execution_count": 10,
   "id": "1a3cc093",
   "metadata": {},
   "outputs": [
    {
     "name": "stdout",
     "output_type": "stream",
     "text": [
      "(12, 4)\n"
     ]
    }
   ],
   "source": [
    "both_values = many_returns(8,4)\n",
    "print(both_values)"
   ]
  },
  {
   "cell_type": "markdown",
   "id": "e7696b2e",
   "metadata": {},
   "source": [
    "It looks like a list almost, but with parentheses. This datatype is called a **tuple**, and it serves as an easy way to pack and unpack data that can be of different datatypes. In the above case, the two values are both integers, but take a look at this function:"
   ]
  },
  {
   "cell_type": "code",
   "execution_count": 12,
   "id": "04a0ec24",
   "metadata": {},
   "outputs": [
    {
     "name": "stdout",
     "output_type": "stream",
     "text": [
      "(4, 8, 'Number has been multiplied by 2')\n"
     ]
    }
   ],
   "source": [
    "def int_and_string(number):\n",
    "    return number, number*2, \"Number has been multiplied by 2\"\n",
    "\n",
    "return_values = int_and_string(4)\n",
    "print(return_values)"
   ]
  },
  {
   "cell_type": "markdown",
   "id": "a6813159",
   "metadata": {},
   "source": [
    "See? It's totally fine for tuples to have many variables in them of different types. These tuples can also be unpacked later on, making them an efficient way to move related data of different datatypes around in a program:"
   ]
  },
  {
   "cell_type": "code",
   "execution_count": 14,
   "id": "523e4e2e",
   "metadata": {},
   "outputs": [
    {
     "name": "stdout",
     "output_type": "stream",
     "text": [
      "4\n",
      "8\n",
      "Number has been multiplied by 2\n"
     ]
    }
   ],
   "source": [
    "original, modified, phrase = return_values\n",
    "\n",
    "print(original)\n",
    "print(modified)\n",
    "print(phrase)"
   ]
  },
  {
   "cell_type": "markdown",
   "id": "fcb85bb7",
   "metadata": {},
   "source": [
    "**Tuples** can also be created manually by using parentheses, and individual elements can be accessed using indexing like with a **list**"
   ]
  },
  {
   "cell_type": "code",
   "execution_count": 17,
   "id": "fef1a7a4",
   "metadata": {},
   "outputs": [
    {
     "name": "stdout",
     "output_type": "stream",
     "text": [
      "[0, 1, 2, 3, 4]\n"
     ]
    }
   ],
   "source": [
    "my_packaged_data = ([0,1,2,3,4], \"here are some numbers!\")\n",
    "print(my_packaged_data[0])"
   ]
  }
 ],
 "metadata": {
  "kernelspec": {
   "display_name": "Python 3 (ipykernel)",
   "language": "python",
   "name": "python3"
  },
  "language_info": {
   "codemirror_mode": {
    "name": "ipython",
    "version": 3
   },
   "file_extension": ".py",
   "mimetype": "text/x-python",
   "name": "python",
   "nbconvert_exporter": "python",
   "pygments_lexer": "ipython3",
   "version": "3.9.9"
  }
 },
 "nbformat": 4,
 "nbformat_minor": 5
}
