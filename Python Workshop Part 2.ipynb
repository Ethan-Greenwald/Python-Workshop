{
 "cells": [
  {
   "cell_type": "markdown",
   "id": "8558d6e7",
   "metadata": {},
   "source": [
    "# Python Workshop Part 2: Conditional Statements, Lists, and Loops\n",
    "\n",
    "## The boolean datatype\n",
    "\n",
    "**Boolean** variables are what make conditional statements possible. This datatype is very simple - it can either be **True** or **False**."
   ]
  },
  {
   "cell_type": "code",
   "execution_count": 1,
   "id": "3ebde01b",
   "metadata": {},
   "outputs": [
    {
     "name": "stdout",
     "output_type": "stream",
     "text": [
      "True\n"
     ]
    }
   ],
   "source": [
    "my_boolean = True\n",
    "print(my_boolean)"
   ]
  },
  {
   "cell_type": "markdown",
   "id": "193689a7",
   "metadata": {},
   "source": [
    "**Booleans** are used with equalities/inequailities as a way to determine if they're true or not. You can check if two values are equal to each other using **==**. Not equal is checked with **!=**. > and >= are used for greater than and greater than or equal to. < and <= work similarly."
   ]
  },
  {
   "cell_type": "code",
   "execution_count": 2,
   "id": "27b9b01e",
   "metadata": {},
   "outputs": [
    {
     "name": "stdout",
     "output_type": "stream",
     "text": [
      "True\n",
      "False\n"
     ]
    }
   ],
   "source": [
    "a = 10\n",
    "b = 10\n",
    "print(a==b)\n",
    "print(a<b)"
   ]
  },
  {
   "cell_type": "markdown",
   "id": "6b8ff3f5",
   "metadata": {},
   "source": [
    "## If statements\n",
    "\n",
    "You can use these equalities to determine if certain portions of code will run using **if statements**. An **if statement** is used like this:"
   ]
  },
  {
   "cell_type": "code",
   "execution_count": 3,
   "id": "ddc6e021",
   "metadata": {},
   "outputs": [
    {
     "name": "stdout",
     "output_type": "stream",
     "text": [
      "x is True!\n"
     ]
    }
   ],
   "source": [
    "x = True\n",
    "if x:\n",
    "    print(\"x is True!\")"
   ]
  },
  {
   "cell_type": "markdown",
   "id": "da4d9838",
   "metadata": {},
   "source": [
    "Note how a colon, **:**, is used at the end of the **if statement** line, and all the code inside is indented in. This idea of indenting is VERY important in Python, since that's how code is organized into different parts (like what is in the **if statement** and what isn't.\n",
    "\n",
    "Here's another example of an **if statement** using an inequality:"
   ]
  },
  {
   "cell_type": "code",
   "execution_count": 4,
   "id": "0b87106b",
   "metadata": {},
   "outputs": [
    {
     "name": "stdout",
     "output_type": "stream",
     "text": [
      "a is larger!\n"
     ]
    }
   ],
   "source": [
    "a = 10\n",
    "b = 5\n",
    "if a>b:\n",
    "    print(\"a is larger!\")"
   ]
  },
  {
   "cell_type": "markdown",
   "id": "49fcd316",
   "metadata": {},
   "source": [
    "**If statements** can be paired with **else** and **else if** (shortened to **elif**) statements as well. If an **if statement** doesn't execute, it'll move on to the next possible branch - either an **else**, **else if**, or just the main code. Try modifying **a** and **b** and rerunning this code to get each sentence to show one at a time:"
   ]
  },
  {
   "cell_type": "code",
   "execution_count": 5,
   "id": "22d4b2b9",
   "metadata": {},
   "outputs": [
    {
     "name": "stdout",
     "output_type": "stream",
     "text": [
      "b is larger!\n"
     ]
    }
   ],
   "source": [
    "a = 7\n",
    "b = 8\n",
    "if a>b:\n",
    "    print(\"a is larger!\")\n",
    "elif b>a:\n",
    "    print(\"b is larger!\")\n",
    "else:\n",
    "    print(\"a is equal to b!\")"
   ]
  },
  {
   "cell_type": "markdown",
   "id": "75a27d99",
   "metadata": {},
   "source": [
    "## While loops\n",
    "\n",
    "**While loops** are another type of conditional, but with the potential to be executed many times over. These will check to see if the conditional is **True**, and execute the code inside if it is. After the code executes, it loops back to the start of the **while loop**, going through the same process again and again until the conditional is **False**."
   ]
  },
  {
   "cell_type": "code",
   "execution_count": 6,
   "id": "d311c80b",
   "metadata": {},
   "outputs": [
    {
     "name": "stdout",
     "output_type": "stream",
     "text": [
      "1\n",
      "2\n",
      "3\n",
      "4\n",
      "\n",
      "The loop is done!\n",
      "5\n",
      "5\n"
     ]
    }
   ],
   "source": [
    "a = 5\n",
    "b = 1\n",
    "\n",
    "while a > b:  # this will run as long as a is greater than b\n",
    "    print(b)\n",
    "    b = b + 1 # add 1 to b and loop back to the start of the while loop\n",
    "print(\"\\nThe loop is done!\")\n",
    "print(a)\n",
    "print(b)"
   ]
  },
  {
   "cell_type": "markdown",
   "id": "247621d6",
   "metadata": {},
   "source": [
    "Here's another loop. Think about why nothing is printed."
   ]
  },
  {
   "cell_type": "code",
   "execution_count": 7,
   "id": "a9bffb53",
   "metadata": {},
   "outputs": [],
   "source": [
    "while False:\n",
    "    print(\"I'm in the loop\")"
   ]
  },
  {
   "cell_type": "markdown",
   "id": "a23ba3c2",
   "metadata": {},
   "source": [
    "## Lists\n",
    "\n",
    "Yet another important datatype is the Python **list**. Lists are constructed using brackets **[ ]** and are used to store and organize a whole bunch of variables. Here's a list of a whole bunch of numbers:"
   ]
  },
  {
   "cell_type": "code",
   "execution_count": 8,
   "id": "d5472207",
   "metadata": {},
   "outputs": [
    {
     "name": "stdout",
     "output_type": "stream",
     "text": [
      "[1, 2, 18, 43, 137]\n"
     ]
    }
   ],
   "source": [
    "my_number_list = [1,2,18,43,137]\n",
    "print(my_number_list)"
   ]
  },
  {
   "cell_type": "markdown",
   "id": "900e6b41",
   "metadata": {},
   "source": [
    "Individual variables in a list are called **elements**. Each element is located at a specific **index**. Indeces are interesting in that they actually start at 0, so the element at index 0 of my_number_list is 1. You can access a specific index by using brackets with the list variable's name:"
   ]
  },
  {
   "cell_type": "code",
   "execution_count": 9,
   "id": "5e4555c2",
   "metadata": {},
   "outputs": [
    {
     "name": "stdout",
     "output_type": "stream",
     "text": [
      "1\n"
     ]
    }
   ],
   "source": [
    "another_list = [1,2,3,4,5,6,7]\n",
    "print(another_list[0])"
   ]
  },
  {
   "cell_type": "markdown",
   "id": "bcd071a8",
   "metadata": {},
   "source": [
    "Now what if you want to grab a specific group of elements in list? Well, you can use list **slicing**. By using colons, you can access whole groups of elements. Take a look at how different elements from another_list are obtained:"
   ]
  },
  {
   "cell_type": "code",
   "execution_count": 10,
   "id": "1c0e6f2c",
   "metadata": {},
   "outputs": [
    {
     "name": "stdout",
     "output_type": "stream",
     "text": [
      "[1, 2, 3]\n",
      "[3, 4, 5, 6]\n"
     ]
    }
   ],
   "source": [
    "first_few = another_list[0:3]\n",
    "middle_few = another_list[2:6]\n",
    "print(first_few)\n",
    "print(middle_few)"
   ]
  },
  {
   "cell_type": "markdown",
   "id": "9350c56a",
   "metadata": {},
   "source": [
    "If you omit one of the numbers in the slicing syntax, the subgroup will extend all the way to that end of the list. For example, typing..."
   ]
  },
  {
   "cell_type": "code",
   "execution_count": 11,
   "id": "eed781c7",
   "metadata": {},
   "outputs": [
    {
     "data": {
      "text/plain": [
       "[4, 5, 6, 7]"
      ]
     },
     "execution_count": 11,
     "metadata": {},
     "output_type": "execute_result"
    }
   ],
   "source": [
    "another_list[3:]"
   ]
  },
  {
   "cell_type": "markdown",
   "id": "ca6c38f0",
   "metadata": {},
   "source": [
    "...gets the element at index 3 through the end. Getting into the specifics a little more, slicing gets the item at the first index up to but **not including** the second index. This means that doing 0:3 will NOT include the element at index 3"
   ]
  },
  {
   "cell_type": "markdown",
   "id": "f5dc0276",
   "metadata": {},
   "source": [
    "## For loops\n",
    "\n",
    "The second main type of loop in coding is called a **for loop**. They work in a similar way to **while loops**, but are usually made for iterating over (aka \"going through\") things or doing something a specific number of times. Something common to iterate over is a **list**. Take a look at the following piece of code and its output:"
   ]
  },
  {
   "cell_type": "code",
   "execution_count": 12,
   "id": "e07a427d",
   "metadata": {},
   "outputs": [
    {
     "name": "stdout",
     "output_type": "stream",
     "text": [
      "word\n",
      "Python!\n",
      "loops\n",
      "variables\n"
     ]
    }
   ],
   "source": [
    "list_of_words = ['word', 'Python!', 'loops', 'variables']\n",
    "for element in list_of_words:\n",
    "    print(element)"
   ]
  },
  {
   "cell_type": "markdown",
   "id": "980ced3d",
   "metadata": {},
   "source": [
    "The loop is structured as **for a in b**, where **b** is the list you're iterating through and **a** is what you call the current item. The loop starts at the beginning of the list, executes the code, and loops back to the start. From there, it moves to the next element and repeats until the end of the list. **For loops** can also be ended early using **break** statements. Take a look at how to use an **if statement** to end a **for loop** early:"
   ]
  },
  {
   "cell_type": "code",
   "execution_count": 13,
   "id": "121d9a89",
   "metadata": {},
   "outputs": [
    {
     "name": "stdout",
     "output_type": "stream",
     "text": [
      "1\n",
      "4\n",
      "2\n"
     ]
    }
   ],
   "source": [
    "my_number = 458\n",
    "my_list = [1,4,2,458,342,3]\n",
    "\n",
    "for number in my_list:\n",
    "    if number == my_number:\n",
    "        break\n",
    "    else:\n",
    "        print(number)"
   ]
  },
  {
   "cell_type": "markdown",
   "id": "02a27dcc",
   "metadata": {},
   "source": [
    "See how the foor loop stops printing once it reaches 458? Once **number** becomes 458, the statement **number == my_number** becomes **True**, so the **if statement** executes, breaking the for loop early."
   ]
  },
  {
   "cell_type": "markdown",
   "id": "e926927a",
   "metadata": {},
   "source": [
    "Sometimes instead of going through an explicit list, you just want to go over a range of numbers. In that case, you can use **range()**, a type of **function** (those will be talked about in part 3). By putting a number inside the parantheses, it'll act like a list of all the numbers up to the one you put in. Here's an example of how that can be used:"
   ]
  },
  {
   "cell_type": "code",
   "execution_count": 14,
   "id": "39982b4f",
   "metadata": {},
   "outputs": [
    {
     "name": "stdout",
     "output_type": "stream",
     "text": [
      "0\n",
      "1\n",
      "2\n",
      "3\n",
      "4\n",
      "5\n",
      "6\n",
      "7\n",
      "8\n",
      "9\n"
     ]
    }
   ],
   "source": [
    "for i in range(10):\n",
    "    print(i)"
   ]
  },
  {
   "cell_type": "markdown",
   "id": "4408e7d8",
   "metadata": {},
   "source": [
    "As you can see, **range(10)** spits out a list of all the numbers up to (but not including!) 10. This effectively makes the loop run 10 times. "
   ]
  }
 ],
 "metadata": {
  "kernelspec": {
   "display_name": "Python 3 (ipykernel)",
   "language": "python",
   "name": "python3"
  },
  "language_info": {
   "codemirror_mode": {
    "name": "ipython",
    "version": 3
   },
   "file_extension": ".py",
   "mimetype": "text/x-python",
   "name": "python",
   "nbconvert_exporter": "python",
   "pygments_lexer": "ipython3",
   "version": "3.9.9"
  }
 },
 "nbformat": 4,
 "nbformat_minor": 5
}
