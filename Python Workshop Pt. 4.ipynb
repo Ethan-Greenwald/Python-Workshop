{
 "cells": [
  {
   "cell_type": "markdown",
   "id": "4dc6bc52",
   "metadata": {},
   "source": [
    "# Intro to NumPy\n",
    "\n",
    "## What is NumPy?\n",
    "\n",
    "**NumPy** is a type of Python **library**. Libraries are like collections of functions that are all related to each other in some way. Instead of rewriting a whole bunch of functions for a project, you can **import** a library and call all of its functions. Importing is done like this:"
   ]
  },
  {
   "cell_type": "code",
   "execution_count": 1,
   "id": "58418141",
   "metadata": {},
   "outputs": [],
   "source": [
    "import numpy"
   ]
  },
  {
   "cell_type": "markdown",
   "id": "ebd85207",
   "metadata": {},
   "source": [
    "Sometimes libraries have long names. In order to make it more convenient to type out, you can use **as** followed by a new name to make things easier, like this:"
   ]
  },
  {
   "cell_type": "code",
   "execution_count": 2,
   "id": "851d3cfd",
   "metadata": {},
   "outputs": [],
   "source": [
    "import numpy as np"
   ]
  },
  {
   "cell_type": "markdown",
   "id": "fc9c192a",
   "metadata": {},
   "source": [
    "Now instead of calling NumPy's functions by using **numpy**, you can just use **np**. \n",
    "\n",
    "## NumPy arrays\n",
    "\n",
    "The biggest part of NumPy that makes it so useful is the NumPy **array**. Arrays are like lists, but more flexible and can be used with NumPy functions (many of which are useful in linear algebra!). Arrays are constructed quite similarly to lists, but using the **array()** function from NumPy. Take a look at how it can be used:"
   ]
  },
  {
   "cell_type": "code",
   "execution_count": 3,
   "id": "f1579ceb",
   "metadata": {},
   "outputs": [
    {
     "name": "stdout",
     "output_type": "stream",
     "text": [
      "[0 1 2 3 4 5]\n"
     ]
    }
   ],
   "source": [
    "my_array = np.array([0,1,2,3,4,5]) #the brackets [ ] form a list, which is then passed into np.array() to form a NumPy array\n",
    "print(my_array) #arrays are printed like lists but without the commas"
   ]
  },
  {
   "cell_type": "markdown",
   "id": "1e34da16",
   "metadata": {},
   "source": [
    "Notice how you can call the **array** function (and any other function from a library) by doing **np.** followed by the function name. More generally, you can call a library function by typing the library name plus a dot before the actual function header (library.function())."
   ]
  },
  {
   "cell_type": "markdown",
   "id": "0e09e19a",
   "metadata": {},
   "source": [
    "A special property of arrays is that they can be more than one-dimensional. Take a look at this one and how it's printed:"
   ]
  },
  {
   "cell_type": "code",
   "execution_count": 7,
   "id": "c5951ad7",
   "metadata": {},
   "outputs": [
    {
     "name": "stdout",
     "output_type": "stream",
     "text": [
      "[[1 2]\n",
      " [3 4]]\n"
     ]
    }
   ],
   "source": [
    "two_by_two = np.array([[1,2], [3,4]])\n",
    "print(two_by_two)"
   ]
  },
  {
   "cell_type": "markdown",
   "id": "93b1c78f",
   "metadata": {},
   "source": [
    "In this case, the NumPy array is **two-dimensional**. The general syntax is that within **np.array()**, you need one set of brackets to constitute the overall array. Within those, you can have multiple \"mini\" lists that will make up each row. Two-dimensional arrays are often used in linear algebra to represent matrices, and so they can have any number of rows and columns, like these:"
   ]
  },
  {
   "cell_type": "code",
   "execution_count": 10,
   "id": "11635dfd",
   "metadata": {},
   "outputs": [
    {
     "name": "stdout",
     "output_type": "stream",
     "text": [
      "[[1 2 3]\n",
      " [4 5 6]]\n",
      "\n",
      "\n",
      "[[1]\n",
      " [2]\n",
      " [3]]\n"
     ]
    }
   ],
   "source": [
    "matrix_2x3 = np.array([[1,2,3],\n",
    "                      [4,5,6],])\n",
    "matrix_3x1 = np.array([[1],\n",
    "                       [2],\n",
    "                       [3]])\n",
    "print(matrix_2x3)\n",
    "print(\"\\n\")\n",
    "print(matrix_3x1)"
   ]
  },
  {
   "cell_type": "markdown",
   "id": "92faa29e",
   "metadata": {},
   "source": [
    "You can get an array's **shape** by calling the **.shape** attribute on an array, like this:"
   ]
  },
  {
   "cell_type": "code",
   "execution_count": 12,
   "id": "96c34af5",
   "metadata": {},
   "outputs": [
    {
     "name": "stdout",
     "output_type": "stream",
     "text": [
      "(2, 3)\n"
     ]
    }
   ],
   "source": [
    "shape = matrix_2x3.shape\n",
    "print(shape)"
   ]
  },
  {
   "cell_type": "markdown",
   "id": "0f602bf5",
   "metadata": {},
   "source": [
    "Notice that this returns a tuple where the first entry is the number of rows and the second is the number of columns.\n",
    "\n",
    "You can also access specific elements and slices of arrays just like with lists. However, accessing an element in a 2D array requires a row and a column, seperated by a comma:"
   ]
  },
  {
   "cell_type": "code",
   "execution_count": 18,
   "id": "928c0448",
   "metadata": {},
   "outputs": [
    {
     "name": "stdout",
     "output_type": "stream",
     "text": [
      "[[1 2 3]\n",
      " [4 5 6]]\n",
      "2\n"
     ]
    }
   ],
   "source": [
    "print(matrix_2x3)\n",
    "my_element = matrix_2x3[0,1] # gets the element in the first row, second column (remember zero-indexing!!)\n",
    "print(my_element)"
   ]
  },
  {
   "cell_type": "markdown",
   "id": "f00b66f8",
   "metadata": {},
   "source": [
    "Slicing a 2D array is a little more complicated. You can replace the row or column index with **:** to get that entire row/column. Additionally, using slicing you can access only certain rows or columns, certain elements within a column, etc. Here are a few examples using a 3x3 matrix (try to guess what mystery_matrix is before you run it!):"
   ]
  },
  {
   "cell_type": "code",
   "execution_count": 27,
   "id": "c828b8c4",
   "metadata": {
    "scrolled": true
   },
   "outputs": [
    {
     "name": "stdout",
     "output_type": "stream",
     "text": [
      "[1 4 7]\n",
      "\n",
      "\n",
      "[1 2 3]\n",
      "\n",
      "\n",
      "[[1 2]\n",
      " [4 5]]\n"
     ]
    }
   ],
   "source": [
    "my_3x3 = np.array([[1,2,3],\n",
    "                   [4,5,6],\n",
    "                   [7,8,9]])\n",
    "first_column = my_3x3[:,0] # this slicing can be read as [all rows, 1st column]\n",
    "print(first_column)\n",
    "print(\"\\n\")\n",
    "first_row = my_3x3[0,:]    # again, [1st row, all columns]\n",
    "print(first_row)\n",
    "\n",
    "print(\"\\n\")\n",
    "mystery_matrix = my_3x3[0:2,0:2]\n",
    "print(mystery_matrix)"
   ]
  },
  {
   "cell_type": "markdown",
   "id": "38de232c",
   "metadata": {},
   "source": [
    "Some additional matrix tools NumPy provides come in the form of **np.sum()** and **np.max()**. The **sum()** function takes an array as input and, by default, will output the sum of all its elements. If you want the sums of the rows or columns, you can specify **axis=0** or **axis=1** in the function. the **max()** function"
   ]
  },
  {
   "cell_type": "code",
   "execution_count": 41,
   "id": "c08c435f",
   "metadata": {},
   "outputs": [
    {
     "name": "stdout",
     "output_type": "stream",
     "text": [
      "9\n",
      "[3 3 3]\n",
      "[0 3 6]\n",
      "\n",
      "\n",
      "2\n",
      "[2 2 2]\n",
      "[0 1 2]\n"
     ]
    }
   ],
   "source": [
    "array = np.array([[0,0,0], # row sums are 0, 3, and 6\n",
    "                  [1,1,1], # column sums are 3, 3, and 3\n",
    "                  [2,2,2]])# total sum is 9\n",
    "\n",
    "print(np.sum(array))        # total sum\n",
    "print(np.sum(array,axis=0)) # row sums, notice how it's given as another NumPy array\n",
    "print(np.sum(array,axis=1)) # column sums\n",
    "\n",
    "print(\"\\n\")\n",
    "print(np.max(array))        # max element\n",
    "print(np.max(array, axis=0))# max row\n",
    "print(np.max(array, axis=1))# max column"
   ]
  },
  {
   "cell_type": "markdown",
   "id": "7fc12988",
   "metadata": {},
   "source": [
    "There's a lot going on in the code above. Take some time to look at the sum/max functions closely, especially with defining the axis. Play around with different matricies to make sure you understand how exactly the axis variable works."
   ]
  },
  {
   "cell_type": "markdown",
   "id": "090b6b5a",
   "metadata": {},
   "source": [
    "## Array creation functions\n",
    "\n",
    "Now, you don't always need to manually type in matrix values. There are a few functions that make generic arrays. Specifically, **np.ones()**, **np.ones_like()**, **np.zeros()**, and **np.eyes()**. The **ones()** function takes a tuple representing an array's shape, and the function spits out an array of that shape filled with 1's in every entry, like this:"
   ]
  },
  {
   "cell_type": "code",
   "execution_count": 13,
   "id": "b0b872be",
   "metadata": {},
   "outputs": [
    {
     "name": "stdout",
     "output_type": "stream",
     "text": [
      "[[1. 1.]\n",
      " [1. 1.]]\n"
     ]
    }
   ],
   "source": [
    "ones_matrix = np.ones((2, 2)) # The shape is (2,2), so 2 rows and 2 columns. Notice how there are two sets of parentheses.\n",
    "                              # This is because the tuple is one item, grouped by parentheses. The second set is for the\n",
    "                              # actual function np.ones().\n",
    "print(ones_matrix)"
   ]
  },
  {
   "cell_type": "markdown",
   "id": "aa480557",
   "metadata": {},
   "source": [
    "Side note: The entries are 1. and not 1 because the datatype from **np.ones()** by default is a **float**.\n",
    "\n",
    "A similar function is **np.ones_like()**, but instead of passing in a shape tuple, you pass in another array. The function outputs an array like from **np.ones()** using the shape of the inputted array."
   ]
  },
  {
   "cell_type": "code",
   "execution_count": 15,
   "id": "77904bfa",
   "metadata": {},
   "outputs": [
    {
     "name": "stdout",
     "output_type": "stream",
     "text": [
      "[[1 1 1]\n",
      " [1 1 1]]\n"
     ]
    }
   ],
   "source": [
    "another_ones_matrix = np.ones_like(matrix_2x3)\n",
    "print(another_ones_matrix)"
   ]
  },
  {
   "cell_type": "markdown",
   "id": "a2bf34d6",
   "metadata": {},
   "source": [
    "Now if **np.ones()** makes a matrix filled with 1's, it isn't to hard to guess what **np.zeros()** does:"
   ]
  },
  {
   "cell_type": "code",
   "execution_count": 16,
   "id": "1b3fb26c",
   "metadata": {},
   "outputs": [
    {
     "name": "stdout",
     "output_type": "stream",
     "text": [
      "[[0. 0.]\n",
      " [0. 0.]]\n"
     ]
    }
   ],
   "source": [
    "zeros_matrix = np.zeros((2,2))\n",
    "print(zeros_matrix)"
   ]
  },
  {
   "cell_type": "markdown",
   "id": "71c60cae",
   "metadata": {},
   "source": [
    "Similarly, **np.zeros_like()** works just like **np.ones_like()**:"
   ]
  },
  {
   "cell_type": "code",
   "execution_count": 17,
   "id": "144bf654",
   "metadata": {},
   "outputs": [
    {
     "name": "stdout",
     "output_type": "stream",
     "text": [
      "[[0 0 0]\n",
      " [0 0 0]]\n"
     ]
    }
   ],
   "source": [
    "another_zeros_matrix = np.zeros_like(matrix_2x3)\n",
    "print(another_zeros_matrix)"
   ]
  },
  {
   "cell_type": "markdown",
   "id": "3b67720f",
   "metadata": {},
   "source": [
    "In linear algebra (and most matrix math), the identity matrix is incredibly important. An easy way to make identity matrices is using the cleverly-named function **np.eye()**. A few quirks: Unlike **np.ones()/zeros()**, you don't pass in a shape tuple. Instead, the rows and columns are explicitly passed in as seperate variables. Furthermore, if the matrix isn't square, it will fill out what it can and leave any leftover rows/columns as full of zeros."
   ]
  },
  {
   "cell_type": "code",
   "execution_count": 26,
   "id": "4675c7ed",
   "metadata": {},
   "outputs": [
    {
     "name": "stdout",
     "output_type": "stream",
     "text": [
      "[[1. 0.]\n",
      " [0. 1.]]\n",
      "\n",
      "\n",
      "[[1. 0. 0.]\n",
      " [0. 1. 0.]\n",
      " [0. 0. 1.]\n",
      " [0. 0. 0.]]\n"
     ]
    }
   ],
   "source": [
    "square_identity = np.eye(2,2)\n",
    "non_square_identity = np.eye(4,3)\n",
    "\n",
    "print(square_identity)\n",
    "print(\"\\n\")\n",
    "print(non_square_identity)"
   ]
  },
  {
   "cell_type": "markdown",
   "id": "0d5b606f",
   "metadata": {},
   "source": [
    "## Doing linear algebra with NumPy arrays\n",
    "\n",
    "Now making arrays is great and all, but NumPy's most important traits for this course revolve around using it for linear algebra. The most basic operations work like you'd think - if two matrices are of the same shape, you can use **+** and **-** to add/subtract them. You can also multiply and divide arrays by scalars (integers and floats both work)."
   ]
  },
  {
   "cell_type": "code",
   "execution_count": 31,
   "id": "ec8039c9",
   "metadata": {},
   "outputs": [
    {
     "name": "stdout",
     "output_type": "stream",
     "text": [
      "[[2. 2.]\n",
      " [2. 2.]]\n",
      "\n",
      "\n",
      "[[2. 2.]\n",
      " [2. 2.]]\n"
     ]
    }
   ],
   "source": [
    "ones = np.ones((2,2))\n",
    "twos_add = ones + ones\n",
    "twos_multiply = ones*2\n",
    "\n",
    "print(twos_add)\n",
    "print(\"\\n\")\n",
    "print(twos_multiply)"
   ]
  },
  {
   "cell_type": "markdown",
   "id": "999493c9",
   "metadata": {},
   "source": [
    "Another key operation is matrix multiplication. NumPy provides a quick and easy way to denote this using the **@** symbol. Using this in between two matrices of compatible shapes will multiply them together, like this:"
   ]
  },
  {
   "cell_type": "code",
   "execution_count": 32,
   "id": "f7e66d52",
   "metadata": {},
   "outputs": [
    {
     "name": "stdout",
     "output_type": "stream",
     "text": [
      "[[19 22]\n",
      " [43 50]]\n"
     ]
    }
   ],
   "source": [
    "array1 = np.array([[1,2],\n",
    "                   [3,4]])\n",
    "array2 = np.array([[5,6],\n",
    "                   [7,8]])\n",
    "multiplied_array = array1 @ array2\n",
    "print(multiplied_array)"
   ]
  },
  {
   "cell_type": "markdown",
   "id": "e1a261a0",
   "metadata": {},
   "source": [
    "In a similar vein, you can get the **transpose** of a matrix/array by calling **.T** on it:"
   ]
  },
  {
   "cell_type": "code",
   "execution_count": 35,
   "id": "4535d40e",
   "metadata": {},
   "outputs": [
    {
     "name": "stdout",
     "output_type": "stream",
     "text": [
      "[[1 1]\n",
      " [0 0]]\n",
      "\n",
      "\n",
      "[[1 0]\n",
      " [1 0]]\n"
     ]
    }
   ],
   "source": [
    "my_array = np.array([[1,1],\n",
    "                     [0,0]])\n",
    "print(my_array)\n",
    "print(\"\\n\")\n",
    "print(my_array.T) #notice the .T, T standing for \"Transpose\""
   ]
  },
  {
   "cell_type": "markdown",
   "id": "01445518",
   "metadata": {},
   "source": [
    "There's one more main function to cover here for now, one that's in a part of NumPy dedicated to linear algebra:"
   ]
  },
  {
   "cell_type": "code",
   "execution_count": 42,
   "id": "69f3f86e",
   "metadata": {},
   "outputs": [],
   "source": [
    "import numpy.linalg as la"
   ]
  },
  {
   "cell_type": "markdown",
   "id": "3c6047da",
   "metadata": {},
   "source": [
    "The above line of code imports a specific part of NumPy under the name **la** so we don't have to type **numpy.linalg** every time. Later in the course you'll do more with this library, but for now there's one function that can be useful for CHECKING ANSWERS (not for just doing your homework - you still have to actually learn this stuff!!!). That function is **la.solve()** and it does what it seems like it would. Passing in two matrices will yield a solution if it exists for the matrix equation."
   ]
  },
  {
   "cell_type": "code",
   "execution_count": 43,
   "id": "db7c2179",
   "metadata": {},
   "outputs": [
    {
     "name": "stdout",
     "output_type": "stream",
     "text": [
      "[[-1.]\n",
      " [ 1.]]\n"
     ]
    }
   ],
   "source": [
    "A = np.array([[1,2],\n",
    "              [3,4]])\n",
    "B = np.array([[1],\n",
    "              [1]])\n",
    "answer = la.solve(A,B)\n",
    "print(answer)"
   ]
  },
  {
   "cell_type": "markdown",
   "id": "cdb0b8b5",
   "metadata": {},
   "source": [
    "Again - one final note: Do NOT just use this, or any other tool, to just solve your homework. It's important to understand linear algebra by itself and not with the assistance of Python. Programming is a tool to apply your knowledge in a more efficient way, not to replace that knowledge. Good luck with the rest of the course and continue learning more about programming! If you ever need help with a specific function in NumPy or just forgot how it works exactly, go to the documentation [here](https://numpy.org/doc/stable/reference/routines.linalg.html)! Have fun!"
   ]
  }
 ],
 "metadata": {
  "kernelspec": {
   "display_name": "Python 3 (ipykernel)",
   "language": "python",
   "name": "python3"
  },
  "language_info": {
   "codemirror_mode": {
    "name": "ipython",
    "version": 3
   },
   "file_extension": ".py",
   "mimetype": "text/x-python",
   "name": "python",
   "nbconvert_exporter": "python",
   "pygments_lexer": "ipython3",
   "version": "3.9.9"
  }
 },
 "nbformat": 4,
 "nbformat_minor": 5
}
